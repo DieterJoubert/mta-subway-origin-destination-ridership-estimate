{
 "cells": [
  {
   "cell_type": "code",
   "execution_count": 1,
   "id": "0cc36785",
   "metadata": {},
   "outputs": [],
   "source": [
    "import pandas as pd\n",
    "import csv"
   ]
  },
  {
   "cell_type": "code",
   "execution_count": 3,
   "id": "77c03a99",
   "metadata": {},
   "outputs": [],
   "source": [
    "data_path_2021 = './data/MTA_Subway_Origin-Destination_Ridership_Estimate__2021.csv'\n",
    "data_path_2022 = './data/MTA_Subway_Origin-Destination_Ridership_Estimate__2022.csv'\n",
    "data_path_2023 = './data/MTA_Subway_Origin-Destination_Ridership_Estimate__2023.csv'\n",
    "data_path_2024 = './data/MTA_Subway_Origin-Destination_Ridership_Estimate__2024.csv'\n",
    "data_path_2025 = './data/MTA_Subway_Origin-Destination_Ridership_Estimate__Beginning_2025.csv'"
   ]
  },
  {
   "cell_type": "code",
   "execution_count": 4,
   "id": "5660cfc3",
   "metadata": {},
   "outputs": [],
   "source": [
    "cols = [\n",
    " 'Year',\n",
    " 'Month', \n",
    " 'Day of Week',\n",
    " 'Hour of Day',\n",
    " 'Origin Latitude',\n",
    " 'Origin Longitude',\n",
    " 'Destination Latitude',\n",
    " 'Destination Longitude',\n",
    " 'Estimated Average Ridership'\n",
    "]"
   ]
  },
  {
   "cell_type": "code",
   "execution_count": 6,
   "id": "a36fcdd5",
   "metadata": {},
   "outputs": [],
   "source": [
    "#TODO: figure out why 2021 csv file isn't read correctly\n",
    "#df_2021 = pd.read_csv(data_path_2021, usecols=cols, on_bad_lines='skip', quoting=csv.QUOTE_NONE)"
   ]
  },
  {
   "cell_type": "code",
   "execution_count": 6,
   "id": "77e33612",
   "metadata": {},
   "outputs": [],
   "source": [
    "df_2022 = pd.read_csv(data_path_2022, usecols=cols)"
   ]
  },
  {
   "cell_type": "code",
   "execution_count": 7,
   "id": "b9d5c326",
   "metadata": {},
   "outputs": [],
   "source": [
    "df_2023 = pd.read_csv(data_path_2023, usecols=cols)"
   ]
  },
  {
   "cell_type": "code",
   "execution_count": 8,
   "id": "f116dfc1",
   "metadata": {},
   "outputs": [
    {
     "name": "stderr",
     "output_type": "stream",
     "text": [
      "/var/folders/3z/b7z191994kv_khdrz9j6trgc0000gp/T/ipykernel_50154/2708250008.py:1: DtypeWarning: Columns (0,12) have mixed types. Specify dtype option on import or set low_memory=False.\n",
      "  df_2024 = pd.read_csv(data_path_2024, usecols=cols)\n"
     ]
    }
   ],
   "source": [
    "df_2024 = pd.read_csv(data_path_2024, usecols=cols)"
   ]
  },
  {
   "cell_type": "code",
   "execution_count": 9,
   "id": "e0b46ce6",
   "metadata": {},
   "outputs": [],
   "source": [
    "df_2025 = pd.read_csv(data_path_2025, usecols=cols)"
   ]
  },
  {
   "cell_type": "code",
   "execution_count": 10,
   "id": "a0709def",
   "metadata": {},
   "outputs": [],
   "source": [
    "#df = pd.concat([df_2021, df_2022, df_2023, df_2024, df_2025])\n",
    "df = pd.concat([df_2022, df_2023, df_2024, df_2025])"
   ]
  },
  {
   "cell_type": "code",
   "execution_count": 11,
   "id": "1b1aae03",
   "metadata": {},
   "outputs": [],
   "source": [
    "#del df_2021\n",
    "del df_2022\n",
    "del df_2023\n",
    "del df_2024\n",
    "del df_2025"
   ]
  },
  {
   "cell_type": "code",
   "execution_count": 12,
   "id": "2915c74e",
   "metadata": {},
   "outputs": [
    {
     "data": {
      "text/html": [
       "<div>\n",
       "<style scoped>\n",
       "    .dataframe tbody tr th:only-of-type {\n",
       "        vertical-align: middle;\n",
       "    }\n",
       "\n",
       "    .dataframe tbody tr th {\n",
       "        vertical-align: top;\n",
       "    }\n",
       "\n",
       "    .dataframe thead th {\n",
       "        text-align: right;\n",
       "    }\n",
       "</style>\n",
       "<table border=\"1\" class=\"dataframe\">\n",
       "  <thead>\n",
       "    <tr style=\"text-align: right;\">\n",
       "      <th></th>\n",
       "      <th>Year</th>\n",
       "      <th>Month</th>\n",
       "      <th>Day of Week</th>\n",
       "      <th>Hour of Day</th>\n",
       "      <th>Origin Latitude</th>\n",
       "      <th>Origin Longitude</th>\n",
       "      <th>Destination Latitude</th>\n",
       "      <th>Destination Longitude</th>\n",
       "      <th>Estimated Average Ridership</th>\n",
       "    </tr>\n",
       "  </thead>\n",
       "  <tbody>\n",
       "    <tr>\n",
       "      <th>(2021, 1)</th>\n",
       "      <td>Monday</td>\n",
       "      <td>11.0</td>\n",
       "      <td>01/04/2021 11:00:00 AM</td>\n",
       "      <td>455.0</td>\n",
       "      <td>327</td>\n",
       "      <td>\"Chambers St (1</td>\n",
       "      <td>40.715478</td>\n",
       "      <td>-74.009266</td>\n",
       "      <td>0.3322</td>\n",
       "    </tr>\n",
       "    <tr>\n",
       "      <th>(2021, 1)</th>\n",
       "      <td>Monday</td>\n",
       "      <td>11.0</td>\n",
       "      <td>01/04/2021 11:00:00 AM</td>\n",
       "      <td>95.0</td>\n",
       "      <td>-73.92227</td>\n",
       "      <td>93</td>\n",
       "      <td>40.682893</td>\n",
       "      <td>-73.910456</td>\n",
       "      <td>0.3217</td>\n",
       "    </tr>\n",
       "    <tr>\n",
       "      <th>(2021, 1)</th>\n",
       "      <td>Monday</td>\n",
       "      <td>11.0</td>\n",
       "      <td>01/04/2021 11:00:00 AM</td>\n",
       "      <td>365.0</td>\n",
       "      <td>168</td>\n",
       "      <td>\"Spring St (C</td>\n",
       "      <td>-74.003739</td>\n",
       "      <td>0.341</td>\n",
       "      <td>POINT (-73.851222 40.834255)</td>\n",
       "    </tr>\n",
       "    <tr>\n",
       "      <th>(2021, 1)</th>\n",
       "      <td>Monday</td>\n",
       "      <td>11.0</td>\n",
       "      <td>01/04/2021 11:00:00 AM</td>\n",
       "      <td>607.0</td>\n",
       "      <td>M</td>\n",
       "      <td>N</td>\n",
       "      <td>W)\"</td>\n",
       "      <td>40.749643</td>\n",
       "      <td>-73.987887</td>\n",
       "    </tr>\n",
       "    <tr>\n",
       "      <th>(2021, 1)</th>\n",
       "      <td>Monday</td>\n",
       "      <td>11.0</td>\n",
       "      <td>01/04/2021 11:00:00 AM</td>\n",
       "      <td>109.0</td>\n",
       "      <td>611</td>\n",
       "      <td>\"Times Sq-42 St (N</td>\n",
       "      <td>W</td>\n",
       "      <td>S</td>\n",
       "      <td>1</td>\n",
       "    </tr>\n",
       "    <tr>\n",
       "      <th>...</th>\n",
       "      <td>...</td>\n",
       "      <td>...</td>\n",
       "      <td>...</td>\n",
       "      <td>...</td>\n",
       "      <td>...</td>\n",
       "      <td>...</td>\n",
       "      <td>...</td>\n",
       "      <td>...</td>\n",
       "      <td>...</td>\n",
       "    </tr>\n",
       "    <tr>\n",
       "      <th>60218039</th>\n",
       "      <td>2025</td>\n",
       "      <td>6.0</td>\n",
       "      <td>Sunday</td>\n",
       "      <td>12.0</td>\n",
       "      <td>40.669847</td>\n",
       "      <td>-73.950466</td>\n",
       "      <td>40.660397</td>\n",
       "      <td>-73.998091</td>\n",
       "      <td>0.2288</td>\n",
       "    </tr>\n",
       "    <tr>\n",
       "      <th>60218040</th>\n",
       "      <td>2025</td>\n",
       "      <td>6.0</td>\n",
       "      <td>Sunday</td>\n",
       "      <td>12.0</td>\n",
       "      <td>40.581011</td>\n",
       "      <td>-73.974574</td>\n",
       "      <td>40.620769</td>\n",
       "      <td>-73.975264</td>\n",
       "      <td>0.5242</td>\n",
       "    </tr>\n",
       "    <tr>\n",
       "      <th>60218041</th>\n",
       "      <td>2025</td>\n",
       "      <td>6.0</td>\n",
       "      <td>Sunday</td>\n",
       "      <td>12.0</td>\n",
       "      <td>40.604556</td>\n",
       "      <td>-73.998168</td>\n",
       "      <td>40.759145</td>\n",
       "      <td>-73.95326</td>\n",
       "      <td>0.2692</td>\n",
       "    </tr>\n",
       "    <tr>\n",
       "      <th>60218042</th>\n",
       "      <td>2025</td>\n",
       "      <td>6.0</td>\n",
       "      <td>Sunday</td>\n",
       "      <td>12.0</td>\n",
       "      <td>40.693241</td>\n",
       "      <td>-73.990642</td>\n",
       "      <td>40.688089</td>\n",
       "      <td>-73.966839</td>\n",
       "      <td>1.1866</td>\n",
       "    </tr>\n",
       "    <tr>\n",
       "      <th>60218043</th>\n",
       "      <td>2025</td>\n",
       "      <td>6.0</td>\n",
       "      <td>Sunday</td>\n",
       "      <td>12.0</td>\n",
       "      <td>40.664635</td>\n",
       "      <td>-73.894895</td>\n",
       "      <td>40.799075</td>\n",
       "      <td>-73.951822</td>\n",
       "      <td>0.2424</td>\n",
       "    </tr>\n",
       "  </tbody>\n",
       "</table>\n",
       "<p>313239373 rows × 9 columns</p>\n",
       "</div>"
      ],
      "text/plain": [
       "             Year  Month             Day of Week  Hour of Day Origin Latitude  \\\n",
       "(2021, 1)  Monday   11.0  01/04/2021 11:00:00 AM        455.0             327   \n",
       "(2021, 1)  Monday   11.0  01/04/2021 11:00:00 AM         95.0       -73.92227   \n",
       "(2021, 1)  Monday   11.0  01/04/2021 11:00:00 AM        365.0             168   \n",
       "(2021, 1)  Monday   11.0  01/04/2021 11:00:00 AM        607.0               M   \n",
       "(2021, 1)  Monday   11.0  01/04/2021 11:00:00 AM        109.0             611   \n",
       "...           ...    ...                     ...          ...             ...   \n",
       "60218039     2025    6.0                  Sunday         12.0       40.669847   \n",
       "60218040     2025    6.0                  Sunday         12.0       40.581011   \n",
       "60218041     2025    6.0                  Sunday         12.0       40.604556   \n",
       "60218042     2025    6.0                  Sunday         12.0       40.693241   \n",
       "60218043     2025    6.0                  Sunday         12.0       40.664635   \n",
       "\n",
       "             Origin Longitude Destination Latitude Destination Longitude  \\\n",
       "(2021, 1)     \"Chambers St (1            40.715478            -74.009266   \n",
       "(2021, 1)                  93            40.682893            -73.910456   \n",
       "(2021, 1)       \"Spring St (C           -74.003739                 0.341   \n",
       "(2021, 1)                   N                  W)\"             40.749643   \n",
       "(2021, 1)  \"Times Sq-42 St (N                    W                     S   \n",
       "...                       ...                  ...                   ...   \n",
       "60218039           -73.950466            40.660397            -73.998091   \n",
       "60218040           -73.974574            40.620769            -73.975264   \n",
       "60218041           -73.998168            40.759145             -73.95326   \n",
       "60218042           -73.990642            40.688089            -73.966839   \n",
       "60218043           -73.894895            40.799075            -73.951822   \n",
       "\n",
       "            Estimated Average Ridership  \n",
       "(2021, 1)                        0.3322  \n",
       "(2021, 1)                        0.3217  \n",
       "(2021, 1)  POINT (-73.851222 40.834255)  \n",
       "(2021, 1)                    -73.987887  \n",
       "(2021, 1)                             1  \n",
       "...                                 ...  \n",
       "60218039                         0.2288  \n",
       "60218040                         0.5242  \n",
       "60218041                         0.2692  \n",
       "60218042                         1.1866  \n",
       "60218043                         0.2424  \n",
       "\n",
       "[313239373 rows x 9 columns]"
      ]
     },
     "execution_count": 12,
     "metadata": {},
     "output_type": "execute_result"
    }
   ],
   "source": [
    "df"
   ]
  },
  {
   "cell_type": "code",
   "execution_count": 13,
   "id": "2d4c5541",
   "metadata": {},
   "outputs": [],
   "source": [
    "columns_map = {\n",
    "    'Year': 'year',\n",
    "    'Month': 'month',\n",
    "    'Day of Week': 'day_of_week',\n",
    "    'Hour of Day': 'hour_of_day',\n",
    "    'Origin Latitude': 'origin_latitude',\n",
    "    'Origin Longitude': 'origin_longitude',\n",
    "    'Destination Latitude': 'destination_latitude',\n",
    "    'Destination Longitude': 'destination_longitude',\n",
    "    'Estimated Average Ridership': 'estimated_average_ridership'\n",
    "}\n",
    "\n",
    "df = df.rename(columns=columns_map)"
   ]
  },
  {
   "cell_type": "code",
   "execution_count": 18,
   "id": "1075cdd3",
   "metadata": {},
   "outputs": [
    {
     "data": {
      "text/html": [
       "<div>\n",
       "<style scoped>\n",
       "    .dataframe tbody tr th:only-of-type {\n",
       "        vertical-align: middle;\n",
       "    }\n",
       "\n",
       "    .dataframe tbody tr th {\n",
       "        vertical-align: top;\n",
       "    }\n",
       "\n",
       "    .dataframe thead th {\n",
       "        text-align: right;\n",
       "    }\n",
       "</style>\n",
       "<table border=\"1\" class=\"dataframe\">\n",
       "  <thead>\n",
       "    <tr style=\"text-align: right;\">\n",
       "      <th></th>\n",
       "      <th>year</th>\n",
       "      <th>month</th>\n",
       "      <th>day_of_week</th>\n",
       "      <th>hour_of_day</th>\n",
       "      <th>origin_latitude</th>\n",
       "      <th>origin_longitude</th>\n",
       "      <th>destination_latitude</th>\n",
       "      <th>destination_longitude</th>\n",
       "      <th>estimated_average_ridership</th>\n",
       "    </tr>\n",
       "  </thead>\n",
       "  <tbody>\n",
       "    <tr>\n",
       "      <th>(2021, 1)</th>\n",
       "      <td>Monday</td>\n",
       "      <td>11.0</td>\n",
       "      <td>01/04/2021 11:00:00 AM</td>\n",
       "      <td>455.0</td>\n",
       "      <td>327</td>\n",
       "      <td>\"Chambers St (1</td>\n",
       "      <td>40.715478</td>\n",
       "      <td>-74.009266</td>\n",
       "      <td>0.3322</td>\n",
       "    </tr>\n",
       "    <tr>\n",
       "      <th>(2021, 1)</th>\n",
       "      <td>Monday</td>\n",
       "      <td>11.0</td>\n",
       "      <td>01/04/2021 11:00:00 AM</td>\n",
       "      <td>95.0</td>\n",
       "      <td>-73.92227</td>\n",
       "      <td>93</td>\n",
       "      <td>40.682893</td>\n",
       "      <td>-73.910456</td>\n",
       "      <td>0.3217</td>\n",
       "    </tr>\n",
       "    <tr>\n",
       "      <th>(2021, 1)</th>\n",
       "      <td>Monday</td>\n",
       "      <td>11.0</td>\n",
       "      <td>01/04/2021 11:00:00 AM</td>\n",
       "      <td>365.0</td>\n",
       "      <td>168</td>\n",
       "      <td>\"Spring St (C</td>\n",
       "      <td>-74.003739</td>\n",
       "      <td>0.341</td>\n",
       "      <td>POINT (-73.851222 40.834255)</td>\n",
       "    </tr>\n",
       "    <tr>\n",
       "      <th>(2021, 1)</th>\n",
       "      <td>Monday</td>\n",
       "      <td>11.0</td>\n",
       "      <td>01/04/2021 11:00:00 AM</td>\n",
       "      <td>607.0</td>\n",
       "      <td>M</td>\n",
       "      <td>N</td>\n",
       "      <td>W)\"</td>\n",
       "      <td>40.749643</td>\n",
       "      <td>-73.987887</td>\n",
       "    </tr>\n",
       "    <tr>\n",
       "      <th>(2021, 1)</th>\n",
       "      <td>Monday</td>\n",
       "      <td>11.0</td>\n",
       "      <td>01/04/2021 11:00:00 AM</td>\n",
       "      <td>109.0</td>\n",
       "      <td>611</td>\n",
       "      <td>\"Times Sq-42 St (N</td>\n",
       "      <td>W</td>\n",
       "      <td>S</td>\n",
       "      <td>1</td>\n",
       "    </tr>\n",
       "    <tr>\n",
       "      <th>...</th>\n",
       "      <td>...</td>\n",
       "      <td>...</td>\n",
       "      <td>...</td>\n",
       "      <td>...</td>\n",
       "      <td>...</td>\n",
       "      <td>...</td>\n",
       "      <td>...</td>\n",
       "      <td>...</td>\n",
       "      <td>...</td>\n",
       "    </tr>\n",
       "    <tr>\n",
       "      <th>60218039</th>\n",
       "      <td>2025</td>\n",
       "      <td>6.0</td>\n",
       "      <td>Sunday</td>\n",
       "      <td>12.0</td>\n",
       "      <td>40.669847</td>\n",
       "      <td>-73.950466</td>\n",
       "      <td>40.660397</td>\n",
       "      <td>-73.998091</td>\n",
       "      <td>0.2288</td>\n",
       "    </tr>\n",
       "    <tr>\n",
       "      <th>60218040</th>\n",
       "      <td>2025</td>\n",
       "      <td>6.0</td>\n",
       "      <td>Sunday</td>\n",
       "      <td>12.0</td>\n",
       "      <td>40.581011</td>\n",
       "      <td>-73.974574</td>\n",
       "      <td>40.620769</td>\n",
       "      <td>-73.975264</td>\n",
       "      <td>0.5242</td>\n",
       "    </tr>\n",
       "    <tr>\n",
       "      <th>60218041</th>\n",
       "      <td>2025</td>\n",
       "      <td>6.0</td>\n",
       "      <td>Sunday</td>\n",
       "      <td>12.0</td>\n",
       "      <td>40.604556</td>\n",
       "      <td>-73.998168</td>\n",
       "      <td>40.759145</td>\n",
       "      <td>-73.95326</td>\n",
       "      <td>0.2692</td>\n",
       "    </tr>\n",
       "    <tr>\n",
       "      <th>60218042</th>\n",
       "      <td>2025</td>\n",
       "      <td>6.0</td>\n",
       "      <td>Sunday</td>\n",
       "      <td>12.0</td>\n",
       "      <td>40.693241</td>\n",
       "      <td>-73.990642</td>\n",
       "      <td>40.688089</td>\n",
       "      <td>-73.966839</td>\n",
       "      <td>1.1866</td>\n",
       "    </tr>\n",
       "    <tr>\n",
       "      <th>60218043</th>\n",
       "      <td>2025</td>\n",
       "      <td>6.0</td>\n",
       "      <td>Sunday</td>\n",
       "      <td>12.0</td>\n",
       "      <td>40.664635</td>\n",
       "      <td>-73.894895</td>\n",
       "      <td>40.799075</td>\n",
       "      <td>-73.951822</td>\n",
       "      <td>0.2424</td>\n",
       "    </tr>\n",
       "  </tbody>\n",
       "</table>\n",
       "<p>313239366 rows × 9 columns</p>\n",
       "</div>"
      ],
      "text/plain": [
       "             year  month             day_of_week  hour_of_day origin_latitude  \\\n",
       "(2021, 1)  Monday   11.0  01/04/2021 11:00:00 AM        455.0             327   \n",
       "(2021, 1)  Monday   11.0  01/04/2021 11:00:00 AM         95.0       -73.92227   \n",
       "(2021, 1)  Monday   11.0  01/04/2021 11:00:00 AM        365.0             168   \n",
       "(2021, 1)  Monday   11.0  01/04/2021 11:00:00 AM        607.0               M   \n",
       "(2021, 1)  Monday   11.0  01/04/2021 11:00:00 AM        109.0             611   \n",
       "...           ...    ...                     ...          ...             ...   \n",
       "60218039     2025    6.0                  Sunday         12.0       40.669847   \n",
       "60218040     2025    6.0                  Sunday         12.0       40.581011   \n",
       "60218041     2025    6.0                  Sunday         12.0       40.604556   \n",
       "60218042     2025    6.0                  Sunday         12.0       40.693241   \n",
       "60218043     2025    6.0                  Sunday         12.0       40.664635   \n",
       "\n",
       "             origin_longitude destination_latitude destination_longitude  \\\n",
       "(2021, 1)     \"Chambers St (1            40.715478            -74.009266   \n",
       "(2021, 1)                  93            40.682893            -73.910456   \n",
       "(2021, 1)       \"Spring St (C           -74.003739                 0.341   \n",
       "(2021, 1)                   N                  W)\"             40.749643   \n",
       "(2021, 1)  \"Times Sq-42 St (N                    W                     S   \n",
       "...                       ...                  ...                   ...   \n",
       "60218039           -73.950466            40.660397            -73.998091   \n",
       "60218040           -73.974574            40.620769            -73.975264   \n",
       "60218041           -73.998168            40.759145             -73.95326   \n",
       "60218042           -73.990642            40.688089            -73.966839   \n",
       "60218043           -73.894895            40.799075            -73.951822   \n",
       "\n",
       "            estimated_average_ridership  \n",
       "(2021, 1)                        0.3322  \n",
       "(2021, 1)                        0.3217  \n",
       "(2021, 1)  POINT (-73.851222 40.834255)  \n",
       "(2021, 1)                    -73.987887  \n",
       "(2021, 1)                             1  \n",
       "...                                 ...  \n",
       "60218039                         0.2288  \n",
       "60218040                         0.5242  \n",
       "60218041                         0.2692  \n",
       "60218042                         1.1866  \n",
       "60218043                         0.2424  \n",
       "\n",
       "[313239366 rows x 9 columns]"
      ]
     },
     "execution_count": 18,
     "metadata": {},
     "output_type": "execute_result"
    }
   ],
   "source": [
    "df"
   ]
  },
  {
   "cell_type": "code",
   "execution_count": 19,
   "id": "4b9c0097",
   "metadata": {},
   "outputs": [
    {
     "name": "stdout",
     "output_type": "stream",
     "text": [
      "<class 'pandas.core.frame.DataFrame'>\n",
      "Index: 313239366 entries, (2021, 1) to 60218043\n",
      "Data columns (total 9 columns):\n",
      " #   Column                       Dtype  \n",
      "---  ------                       -----  \n",
      " 0   year                         object \n",
      " 1   month                        float64\n",
      " 2   day_of_week                  object \n",
      " 3   hour_of_day                  float64\n",
      " 4   origin_latitude              object \n",
      " 5   origin_longitude             object \n",
      " 6   destination_latitude         object \n",
      " 7   destination_longitude        object \n",
      " 8   estimated_average_ridership  object \n",
      "dtypes: float64(2), object(7)\n",
      "memory usage: 23.3+ GB\n"
     ]
    }
   ],
   "source": [
    "df.info()"
   ]
  },
  {
   "cell_type": "code",
   "execution_count": 16,
   "id": "504a5bc6",
   "metadata": {},
   "outputs": [
    {
     "data": {
      "text/plain": [
       "7"
      ]
     },
     "execution_count": 16,
     "metadata": {},
     "output_type": "execute_result"
    }
   ],
   "source": [
    "nan_count = df['estimated_average_ridership'].isna().sum()\n",
    "nan_count"
   ]
  },
  {
   "cell_type": "code",
   "execution_count": 17,
   "id": "8205f68f",
   "metadata": {},
   "outputs": [],
   "source": [
    "df.dropna(subset=['estimated_average_ridership'], inplace=True)"
   ]
  },
  {
   "cell_type": "code",
   "execution_count": 20,
   "id": "21d6307f",
   "metadata": {},
   "outputs": [],
   "source": [
    "years = [2021, 2022, 2023, 2024, 2025]\n",
    "df = df[df.year.isin(years)]"
   ]
  },
  {
   "cell_type": "code",
   "execution_count": 21,
   "id": "114f5a38",
   "metadata": {},
   "outputs": [
    {
     "data": {
      "text/plain": [
       "array([2022, 2023, 2024, 2025], dtype=object)"
      ]
     },
     "execution_count": 21,
     "metadata": {},
     "output_type": "execute_result"
    }
   ],
   "source": [
    "df.year.unique()"
   ]
  },
  {
   "cell_type": "code",
   "execution_count": 22,
   "id": "e006752f",
   "metadata": {},
   "outputs": [
    {
     "name": "stderr",
     "output_type": "stream",
     "text": [
      "/var/folders/3z/b7z191994kv_khdrz9j6trgc0000gp/T/ipykernel_50154/3632001444.py:1: SettingWithCopyWarning: \n",
      "A value is trying to be set on a copy of a slice from a DataFrame.\n",
      "Try using .loc[row_indexer,col_indexer] = value instead\n",
      "\n",
      "See the caveats in the documentation: https://pandas.pydata.org/pandas-docs/stable/user_guide/indexing.html#returning-a-view-versus-a-copy\n",
      "  df['month'] = df['month'].astype(int)\n",
      "/var/folders/3z/b7z191994kv_khdrz9j6trgc0000gp/T/ipykernel_50154/3632001444.py:2: SettingWithCopyWarning: \n",
      "A value is trying to be set on a copy of a slice from a DataFrame.\n",
      "Try using .loc[row_indexer,col_indexer] = value instead\n",
      "\n",
      "See the caveats in the documentation: https://pandas.pydata.org/pandas-docs/stable/user_guide/indexing.html#returning-a-view-versus-a-copy\n",
      "  df['year'] = df['year'].astype(int)\n",
      "/var/folders/3z/b7z191994kv_khdrz9j6trgc0000gp/T/ipykernel_50154/3632001444.py:3: SettingWithCopyWarning: \n",
      "A value is trying to be set on a copy of a slice from a DataFrame.\n",
      "Try using .loc[row_indexer,col_indexer] = value instead\n",
      "\n",
      "See the caveats in the documentation: https://pandas.pydata.org/pandas-docs/stable/user_guide/indexing.html#returning-a-view-versus-a-copy\n",
      "  df['day_of_week'] = df['day_of_week'].astype(str)\n"
     ]
    }
   ],
   "source": [
    "df['month'] = df['month'].astype(int)\n",
    "df['year'] = df['year'].astype(int)\n",
    "df['day_of_week'] = df['day_of_week'].astype(str)"
   ]
  },
  {
   "cell_type": "code",
   "execution_count": 23,
   "id": "9f9df26d",
   "metadata": {},
   "outputs": [
    {
     "data": {
      "text/plain": [
       "array([ 1,  2,  3,  4,  5,  6,  7,  8, 12, 10, 11,  9])"
      ]
     },
     "execution_count": 23,
     "metadata": {},
     "output_type": "execute_result"
    }
   ],
   "source": [
    "df.month.unique()"
   ]
  },
  {
   "cell_type": "code",
   "execution_count": 24,
   "id": "46e94205",
   "metadata": {},
   "outputs": [
    {
     "data": {
      "text/plain": [
       "array([2022, 2023, 2024, 2025])"
      ]
     },
     "execution_count": 24,
     "metadata": {},
     "output_type": "execute_result"
    }
   ],
   "source": [
    "df.year.unique()"
   ]
  },
  {
   "cell_type": "code",
   "execution_count": 25,
   "id": "d007b4d9",
   "metadata": {},
   "outputs": [
    {
     "data": {
      "text/plain": [
       "array(['Wednesday', 'Thursday', 'Friday', 'Saturday', 'Sunday', 'Monday',\n",
       "       'Tuesday'], dtype=object)"
      ]
     },
     "execution_count": 25,
     "metadata": {},
     "output_type": "execute_result"
    }
   ],
   "source": [
    "df.day_of_week.unique()"
   ]
  },
  {
   "cell_type": "code",
   "execution_count": 26,
   "id": "f775f173",
   "metadata": {},
   "outputs": [],
   "source": [
    "df.to_csv('data_collected.csv', index=False)"
   ]
  }
 ],
 "metadata": {
  "kernelspec": {
   "display_name": "Python 3 (ipykernel)",
   "language": "python",
   "name": "python3"
  },
  "language_info": {
   "codemirror_mode": {
    "name": "ipython",
    "version": 3
   },
   "file_extension": ".py",
   "mimetype": "text/x-python",
   "name": "python",
   "nbconvert_exporter": "python",
   "pygments_lexer": "ipython3",
   "version": "3.11.7"
  }
 },
 "nbformat": 4,
 "nbformat_minor": 5
}
